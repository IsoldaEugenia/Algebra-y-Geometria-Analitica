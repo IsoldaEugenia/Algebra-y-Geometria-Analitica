{
 "cells": [
  {
   "cell_type": "code",
   "execution_count": null,
   "metadata": {},
   "outputs": [],
   "source": [
    "%display latex"
   ]
  },
  {
   "cell_type": "markdown",
   "metadata": {},
   "source": [
    "# 7 Otras curvas y superficies en el espacio\n",
    "\n",
    "Hemos utilizado el comando implicit_plot para que SAGE dibuje superficies dadas en forma implícita (o \"cartesiana\"). Exploraremos cómo dibujar superficies o curvas dadas con otro tipo de ecuaciones, como por ejemplo paramétricas."
   ]
  },
  {
   "cell_type": "markdown",
   "metadata": {},
   "source": [
    "# 7.1 Veamos el ejemplo 3 del apunte:\n",
    "$$\\left\\{ \\begin{array}{l} x^2+y^2 =1 \\\\ z= x^2 \\end{array} \\right.$$\n",
    "Parametricemos esta curva (o al menos el alguna parte de la misma): $(t,\\sqrt{1-t^2},t^2), t\\in\\mathbb{R}$ y $(t,-\\sqrt{1-t^2},t^2), t\\in\\mathbb{R}$ ."
   ]
  },
  {
   "cell_type": "code",
   "execution_count": null,
   "metadata": {},
   "outputs": [],
   "source": [
    "var('x,y,z')"
   ]
  },
  {
   "cell_type": "code",
   "execution_count": null,
   "metadata": {},
   "outputs": [],
   "source": [
    "var('t,u')"
   ]
  },
  {
   "cell_type": "code",
   "execution_count": null,
   "metadata": {},
   "outputs": [],
   "source": [
    "planoxy= z\n",
    "planoxz= y\n",
    "planoyz= x\n",
    "GrafPlxy = implicit_plot3d(planoxy,(x,-5,5),(y,-5,5),(z,-5,5),color='blue',opacity=.125, axes=True, frame=False)\n",
    "GrafPlxz = implicit_plot3d(planoxz,(x,-5,5),(y,-5,5),(z,-5,5),color='green',opacity=.125, axes=True, frame=False)\n",
    "GrafPlyz = implicit_plot3d(planoyz,(x,-5,5),(y,-5,5),(z,-5,5),color='red',opacity=.125, axes=True, frame=False)\n",
    "PlsCoords = GrafPlxy + GrafPlxz + GrafPlyz"
   ]
  },
  {
   "cell_type": "code",
   "execution_count": null,
   "metadata": {},
   "outputs": [],
   "source": [
    "Cur3 =  parametric_plot3d((t, sqrt(1-t^2), t^2), (t,-3,3), axis=True, frame=False) + parametric_plot3d((t, -sqrt(1-t^2), t^2), (t,-3,3), axis=True, frame=False)"
   ]
  },
  {
   "cell_type": "code",
   "execution_count": null,
   "metadata": {},
   "outputs": [],
   "source": [
    "show(Cur3 + PlsCoords)"
   ]
  },
  {
   "cell_type": "markdown",
   "metadata": {},
   "source": [
    "# 7.2 Hélice\n",
    "\n",
    "Dibujemos ahora la hélice elíptica dada por las ecuaciones paramétricas\n",
    "$$\\left\\{ \\begin{array}{lr} x(t)=2*sin(t)+1, & \\\\ y(t) = 3*cos(t)-2, & t\\in\\mathbb{R} \\\\ z(t)=t/5. & \\end{array} \\right.$$"
   ]
  },
  {
   "cell_type": "code",
   "execution_count": null,
   "metadata": {},
   "outputs": [],
   "source": [
    "Hel = parametric_plot3d((2*sin(t)+1, 3*cos(t)-2, t/10), (t,-4*pi,4*pi))"
   ]
  },
  {
   "cell_type": "code",
   "execution_count": null,
   "metadata": {},
   "outputs": [],
   "source": [
    "show(Hel + PlsCoords)"
   ]
  },
  {
   "cell_type": "markdown",
   "metadata": {},
   "source": [
    "# 7.3 Ejemplo 7 del apunte\n",
    "\n",
    "La curva de ecuaciones paramétricas\n",
    "\n",
    "$$\\left\\{ \\begin{array}{lr} x(t)=cos(t), & \\\\ y(t) = sin(t), & t\\in\\mathbb{R} \\\\ z(t) = sin(t) . & \\end{array} \\right.$$"
   ]
  },
  {
   "cell_type": "code",
   "execution_count": null,
   "metadata": {},
   "outputs": [],
   "source": [
    "Cur7 = parametric_plot3d((cos(t), sin(t), sin(t)), (t,0,2*pi))"
   ]
  },
  {
   "cell_type": "code",
   "execution_count": null,
   "metadata": {
    "scrolled": true
   },
   "outputs": [],
   "source": [
    "show(Cur7 + PlsCoords)"
   ]
  },
  {
   "cell_type": "markdown",
   "metadata": {},
   "source": [
    "# 7.4 Cilindros y superficies de revolución\n",
    "\n",
    "En el apunte estudiamos las ecuaciones paramétricas de un cilindro circular recto, por ejemplo el siguiente:\n",
    "    $$\\left\\{\\begin{array}{l}\n",
    "    x=2\\cos t\\\\\n",
    "    y=2\\sin t\\\\\n",
    "    z=u\n",
    "    \\end{array}\\right.,\\ \\ u\\in \\mathbb{R},\\ t\\in[0,2\\pi).$$\n",
    "    Grafiquemos"
   ]
  },
  {
   "cell_type": "code",
   "execution_count": null,
   "metadata": {},
   "outputs": [],
   "source": [
    "CilCircRec = parametric_plot3d((2*cos(t), 2*sin(t), u), (t,0,2*pi), (u,-3,3), color='crimson')"
   ]
  },
  {
   "cell_type": "code",
   "execution_count": null,
   "metadata": {
    "scrolled": true
   },
   "outputs": [],
   "source": [
    "show(CilCircRec + PlsCoords)"
   ]
  },
  {
   "cell_type": "markdown",
   "metadata": {},
   "source": [
    "En general, de acuerdo a cómo gira una curva sobre una directriz, tenemos una descripción paramétrica de las superficies de revolución. \n",
    "\n",
    "El siguiente ejemplo es conocido:\n",
    "$$ \\left\\{\\begin{array}{l}\n",
    "x=(1+2\\cos u)\\cos t\\\\\n",
    "y=(1+2\\cos u)\\sin t\\\\\n",
    "z=2\\sin u\n",
    "\\end{array}\\right.,\\ t\\in [0,2\\pi),\\ \\theta\\in[0,2\\pi)  $$"
   ]
  },
  {
   "cell_type": "code",
   "execution_count": null,
   "metadata": {},
   "outputs": [],
   "source": [
    "Toro = parametric_plot3d(( (4+2*cos(u))*cos(t), (4+2*cos(u))*sin(t), 2*sin(u)), (t,0,2*pi), (u,0,2*pi), color='orange')"
   ]
  },
  {
   "cell_type": "code",
   "execution_count": null,
   "metadata": {},
   "outputs": [],
   "source": [
    "show(Toro + PlsCoords)"
   ]
  },
  {
   "cell_type": "markdown",
   "metadata": {},
   "source": [
    "# 7.5 Miscelánea"
   ]
  },
  {
   "cell_type": "markdown",
   "metadata": {},
   "source": [
    "Una gota de agua:"
   ]
  },
  {
   "cell_type": "code",
   "execution_count": null,
   "metadata": {},
   "outputs": [],
   "source": [
    "spherical_plot3d(e^-y,(x,0,2*pi),(y,0,pi),opacity=0.5).show(frame=False)"
   ]
  },
  {
   "cell_type": "markdown",
   "metadata": {},
   "source": [
    "Gomita del pelo:"
   ]
  },
  {
   "cell_type": "code",
   "execution_count": null,
   "metadata": {},
   "outputs": [],
   "source": [
    "u, v = var('u,v')\n",
    "f_x = (3+sin(v)+cos(u)) * cos(2*v)\n",
    "f_y = (3+sin(v)+cos(u)) * sin(2*v)\n",
    "f_z = sin(u) + 2*cos(v)\n",
    "parametric_plot3d([f_x, f_y, f_z], (u,0,2*pi), (v,0,2*pi), frame=False, color=\"hotpink\")"
   ]
  },
  {
   "cell_type": "markdown",
   "metadata": {},
   "source": [
    "Mi hija volcó la chocolatada:"
   ]
  },
  {
   "cell_type": "code",
   "execution_count": null,
   "metadata": {},
   "outputs": [],
   "source": [
    "F = x^2 + y^2 + z^2 + sin(4*x) + sin(4*y) + sin(4*z) - 1\n",
    "sage: implicit_plot3d(F, (x,-2,2), (y,-2,2), (z,-2,2), color='saddlebrown')"
   ]
  },
  {
   "cell_type": "markdown",
   "metadata": {},
   "source": [
    "Un yo-yo:"
   ]
  },
  {
   "cell_type": "code",
   "execution_count": null,
   "metadata": {},
   "outputs": [],
   "source": [
    "x, y, z = var('x,y,z')\n",
    "t = (x).function(x,y,z)\n",
    "cm = colormaps.PiYG\n",
    "G = implicit_plot3d(x^4 + y^2 + z^2, (x,-2,2),(y,-2,2),(z,-2,2), contour=4, color=(t,cm), plot_points=40)\n",
    "G"
   ]
  },
  {
   "cell_type": "markdown",
   "metadata": {},
   "source": [
    "Adorno para el arbolito:"
   ]
  },
  {
   "cell_type": "code",
   "execution_count": null,
   "metadata": {},
   "outputs": [],
   "source": [
    "t = (sin(3*z)**2).function(x,y,z)\n",
    "cm = colormaps.gist_rainbow\n",
    "G = implicit_plot3d(x^2 + y^2 + z^2, (x,-2,2), (y,-2,2), (z,-2, 2), contour=4, color=(t,cm), plot_points=100)\n",
    "G.show(viewer='tachyon')"
   ]
  },
  {
   "cell_type": "code",
   "execution_count": null,
   "metadata": {},
   "outputs": [],
   "source": [
    "show(G)"
   ]
  },
  {
   "cell_type": "markdown",
   "metadata": {},
   "source": [
    "Botella de Klein:"
   ]
  },
  {
   "cell_type": "code",
   "execution_count": null,
   "metadata": {},
   "outputs": [],
   "source": [
    "u, v = var('u,v')\n",
    "f_x = (3*(1+sin(v)) + 2*(1-cos(v)/2)*cos(u)) * cos(v)\n",
    "f_y = (4+2*(1-cos(v)/2)*cos(u)) * sin(v)\n",
    "f_z = -2 * (1-cos(v)/2) * sin(u)\n",
    "parametric_plot3d([f_x, f_y, f_z], (u,0,2*pi), (v,0,2*pi), frame=False, color=\"lavenderblush\")"
   ]
  },
  {
   "cell_type": "markdown",
   "metadata": {},
   "source": [
    "Cinta de Möbius:"
   ]
  },
  {
   "cell_type": "code",
   "execution_count": null,
   "metadata": {},
   "outputs": [],
   "source": [
    "u,v = var(\"u,v\")\n",
    "parametric_plot3d([cos(u)*(1+v*cos(u/2)), sin(u)*(1+v*cos(u/2)), 0.2*v*sin(u/2)], (u,0, 4*pi+0.5), (v,0, 0.3), plot_points=[50,50])"
   ]
  },
  {
   "cell_type": "markdown",
   "metadata": {},
   "source": [
    "Hiperelicoide:"
   ]
  },
  {
   "cell_type": "code",
   "execution_count": null,
   "metadata": {},
   "outputs": [],
   "source": [
    "u = var(\"u\")\n",
    "v = var(\"v\")\n",
    "f_x = (sinh(v)*cos(3*u)) / (1+cosh(u)*cosh(v))\n",
    "f_y = (sinh(v)*sin(3*u)) / (1+cosh(u)*cosh(v))\n",
    "f_z = (cosh(v)*sinh(u)) / (1+cosh(u)*cosh(v))\n",
    "parametric_plot3d([f_x, f_y, f_z], (u,-pi,pi), (v,-pi,pi), plot_points=[50,50], frame=False, color=\"salmon\")"
   ]
  },
  {
   "cell_type": "markdown",
   "metadata": {},
   "source": [
    "Breather surface: \n",
    "De la wiki --\n",
    "In physics, a breather is a nonlinear wave in which energy concentrates in a localized and oscillatory fashion. This contradicts with the expectations derived from the corresponding linear system for infinitesimal amplitudes, which tends towards an even distribution of initially localized energy. "
   ]
  },
  {
   "cell_type": "code",
   "execution_count": null,
   "metadata": {},
   "outputs": [],
   "source": [
    "K = sqrt(0.84)\n",
    "G = (0.4*((K*cosh(0.4*u))^2 + (0.4*sin(K*v))^2))\n",
    "f_x = (2*K*cosh(0.4*u)*(-(K*cos(v)*cos(K*v)) - sin(v)*sin(K*v)))/G\n",
    "f_y = (2*K*cosh(0.4*u)*(-(K*sin(v)*cos(K*v)) + cos(v)*sin(K*v)))/G\n",
    "f_z = -u + (2*0.84*cosh(0.4*u)*sinh(0.4*u))/G\n",
    "parametric_plot3d([f_x, f_y, f_z], (u,-13.2,13.2), (v,-37.4,37.4), plot_points=[90,90], frame=False, color=\"beige\")"
   ]
  },
  {
   "cell_type": "markdown",
   "metadata": {},
   "source": [
    "\n"
   ]
  },
  {
   "cell_type": "markdown",
   "metadata": {},
   "source": [
    "Un trompito más sencillo:"
   ]
  },
  {
   "cell_type": "code",
   "execution_count": null,
   "metadata": {},
   "outputs": [],
   "source": [
    "T = implicit_plot3d((sqrt(x*x+y*y)-3)^3 + z*z - 1, (x,-4,4), (y,-4,4), (z,-6,6), color='mistyrose')\n",
    "show(T)"
   ]
  },
  {
   "cell_type": "markdown",
   "metadata": {},
   "source": [
    "Un cubo:"
   ]
  },
  {
   "cell_type": "code",
   "execution_count": null,
   "metadata": {},
   "outputs": [],
   "source": [
    "E = implicit_plot3d(x^100 + y^100 + z^100 - 1, (x,-2,2), (y,-2,2), (z,-2,2), color='peachpuff')\n",
    "show(E)"
   ]
  },
  {
   "cell_type": "markdown",
   "metadata": {},
   "source": [
    "Un Octahedro:"
   ]
  },
  {
   "cell_type": "code",
   "execution_count": null,
   "metadata": {},
   "outputs": [],
   "source": [
    "O = implicit_plot3d(abs(x) + abs(y) + abs(z) - 1, (x,-1,1), (y,-1,1), (z,-1,1), color='darkviolet')\n",
    "show(O)"
   ]
  },
  {
   "cell_type": "markdown",
   "metadata": {},
   "source": [
    "Un Covid:"
   ]
  },
  {
   "cell_type": "code",
   "execution_count": null,
   "metadata": {
    "scrolled": true
   },
   "outputs": [],
   "source": [
    "A = implicit_plot3d(-(cos(x) + cos(y) + cos(z)), (x,-4,4), (y,-4,4), (z,-4,4), color='green')\n",
    "Bola = implicit_plot3d( x^2+y^2+z^2 == 9, (x,-4,4), (y,-4,4), (z,-4,4), color='green')\n",
    "show(A+Bola)"
   ]
  },
  {
   "cell_type": "markdown",
   "metadata": {},
   "source": [
    "Y mucho amor para ustedes!"
   ]
  },
  {
   "cell_type": "code",
   "execution_count": null,
   "metadata": {},
   "outputs": [],
   "source": [
    "F = (x^2+9/4*y^2+z^2-1)^3 - x^2*z^3 - 9/(80)*y^2*z^3\n",
    "r = 1.5\n",
    "C = implicit_plot3d(F, (x,-r,r), (y,-r,r), (z,-r,r), plot_points=80, color='orangered', smooth=False, frame=False)\n",
    "show(C)"
   ]
  },
  {
   "cell_type": "code",
   "execution_count": null,
   "metadata": {},
   "outputs": [],
   "source": []
  }
 ],
 "metadata": {
  "kernelspec": {
   "display_name": "SageMath 9.0",
   "language": "sage",
   "name": "sagemath"
  },
  "language_info": {
   "codemirror_mode": {
    "name": "ipython",
    "version": 3
   },
   "file_extension": ".py",
   "mimetype": "text/x-python",
   "name": "python",
   "nbconvert_exporter": "python",
   "pygments_lexer": "ipython3",
   "version": "3.7.3"
  }
 },
 "nbformat": 4,
 "nbformat_minor": 2
}
