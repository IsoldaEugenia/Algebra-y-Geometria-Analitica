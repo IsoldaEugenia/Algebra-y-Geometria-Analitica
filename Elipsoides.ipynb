{
 "cells": [
  {
   "cell_type": "code",
   "execution_count": null,
   "metadata": {},
   "outputs": [],
   "source": [
    "%display latex"
   ]
  },
  {
   "cell_type": "markdown",
   "metadata": {},
   "source": [
    "# 1. GRAFICAS 3D\n",
    "\n",
    "Vamos por partes.\n",
    "\n",
    "Dijimos que estudiaremos lugares geométricos descritos por ecuaciones del tipo\n",
    " \\begin{equation}\n",
    "Ax^2+By^2+Cz^2+Gx+Hy+Iz+J=0. \\qquad \\qquad (3.2)\n",
    "\\label{cuadrica}\n",
    "\\end{equation}\n",
    "\n",
    "Si $A=B=C=0$, estamos en presencia de la ecuación de un plano, y por lo tanto supondremos que alguno de estos tres coeficientes es no nulo.\n",
    "\n",
    "Si los tres son no nulos, completando cuadrados ser\\'a siempre posible transformar la ecuaci\\'on (3.2) en una ecuaci\\'on del tipo\n",
    "\\begin{equation}\n",
    "\\pm\\frac{(x-x_0)^2}{a^2}\\pm\\frac{(y-y_0)^{2}}{b^2}\\pm\\frac{(z-z_0)^{2}}{c^{2}}=1 \\qquad \\qquad (3.3) \\qquad \\qquad \\textbf{ ELIPSOIDES E HIPERBOLOIDES (2 tipos)}\n",
    "\\label{cuadricastipo1}\n",
    "\\end{equation}\n",
    "(donde obviamente todos los t\\'erminos del miembro izquierdo no pueden tener signo negativo simult\\'aneamente) o bien del tipo\n",
    "\\begin{equation}\n",
    "\\pm\\frac{(x-x_0)^2}{a^2}\\pm\\frac{(y-y_0)^{2}}{b^2}=\\pm\\frac{(z-z_0)^{2}}{c^{2}}. \\qquad \\qquad (3.4)\\qquad \\qquad \\textbf{CONOS}\n",
    "\\label{cuadricastipo1bis}\n",
    "\\end{equation}\n",
    "\n",
    "En caso que s\\'olo uno de los coeficientes $A$, $B$ o $C$ sean nulos, obtendremos una ecuaci\\'on del tipo\n",
    "\\begin{equation}\n",
    "\\frac{(x-x_0)^2}{a^2}\\pm \\frac{(y-y_0)^{2}}{b^2}=\\frac{z-z_0}{c} \\qquad \\qquad (3.5) \\qquad \\qquad \\textbf{PARABOLOIDES (2 tipos)}\n",
    "\\label{cuadricastipo2}\n",
    "\\end{equation}\n",
    "(con posible intercambio de roles en las variables $x,\\,y$ y $z$).\n",
    "\n",
    "Finalmente, si dos de los tres coeficientes son nulos, obtendremos una ecuaci\\'on del tipo:\n",
    "\\begin{equation}\n",
    "\\pm\\frac{(x-x_0)^2}{a^2}= Hy + Iz +J \\qquad \\qquad (3.6) \\qquad \\qquad \\textbf{CILINDROS GENERALIZADOS}\n",
    "\\label{cuadricastipo3}\\end{equation}\n",
    "(donde nuevamente las variables $x$, $y$ o $z$ pueden estar intercambiadas).\n",
    "\n"
   ]
  },
  {
   "cell_type": "markdown",
   "metadata": {},
   "source": [
    "# 2 Elipsoides y esferas\n",
    "\n",
    "Vamos a estudiar ecuaciones del tipo $$\\frac{(x-x_0)^2}{a^2}+\\frac{(y-y_0)^{2}}{b^2}+\\frac{(z-z_0)^{2}}{c^{2}}=1,$$\n",
    "con $(a,b,c)\\neq \\overline{0}$ que son las superficies cuádricas llamadas \\textbf{elipsoides}. Se incluyen las esferas, que se obtienen cuando $a=b=c$.\n",
    "\n",
    "Para ilustrar un poco la mecánica del estudio, consideraremos un ejemplo:\n",
    "$$\\frac{(x-1)^2}{4}+\\frac{(y+2)^{2}}{5}+\\frac{(z-2)^{2}}{9}=1.$$\n",
    "\n",
    "Su centro de simetría es el punto C(1,-2,2).\n",
    "\n",
    "Comencemos ubicando ese punto en el espacio."
   ]
  },
  {
   "cell_type": "code",
   "execution_count": null,
   "metadata": {},
   "outputs": [],
   "source": [
    "Cen = point3d((1,-2,2),color=(1,1,1),pointsize=30, axes=True, frame=True)"
   ]
  },
  {
   "cell_type": "code",
   "execution_count": null,
   "metadata": {
    "scrolled": true
   },
   "outputs": [],
   "source": [
    "show(Cen)"
   ]
  },
  {
   "cell_type": "markdown",
   "metadata": {},
   "source": [
    "Pareciera que azul es el eje x, verde el eje y, y rojo el eje z.\n",
    "Ingresemos las variables cartesianas:"
   ]
  },
  {
   "cell_type": "code",
   "execution_count": null,
   "metadata": {},
   "outputs": [],
   "source": [
    "var('x,y,z')"
   ]
  },
  {
   "cell_type": "markdown",
   "metadata": {},
   "source": [
    "Ingresemos la función de variables x, y, z que igualada a 0 produce la ecuación deseada:"
   ]
  },
  {
   "cell_type": "code",
   "execution_count": null,
   "metadata": {},
   "outputs": [],
   "source": [
    "Cuad = ((x-1)^2)/4 + ((y+2)^2)/5 + ((z-2)^2)/9-1\n",
    "show(Cuad)"
   ]
  },
  {
   "cell_type": "markdown",
   "metadata": {},
   "source": [
    "Otra forma es no igualar y en implicit_plot poner Elipsoide==1 (con dos iguales)"
   ]
  },
  {
   "cell_type": "markdown",
   "metadata": {},
   "source": [
    "Dibujemos los planos coordenados, medio transparentitos para poder ver mejor. De paso visualizamos el centro."
   ]
  },
  {
   "cell_type": "code",
   "execution_count": null,
   "metadata": {},
   "outputs": [],
   "source": [
    "planoxy= z\n",
    "planoxz= y\n",
    "planoyz= x"
   ]
  },
  {
   "cell_type": "markdown",
   "metadata": {},
   "source": [
    "El plano xy está en color azul.\n",
    "El plano xz está en color verde.\n",
    "El plano yz está en color rojo."
   ]
  },
  {
   "cell_type": "code",
   "execution_count": null,
   "metadata": {},
   "outputs": [],
   "source": [
    "GrafPlxy = implicit_plot3d(planoxy,(x,-5,5),(y,-5,5),(z,-5,5),color='blue',opacity=.125, axes=True, frame=False)"
   ]
  },
  {
   "cell_type": "code",
   "execution_count": null,
   "metadata": {},
   "outputs": [],
   "source": [
    "show(GrafPlxy)"
   ]
  },
  {
   "cell_type": "code",
   "execution_count": null,
   "metadata": {},
   "outputs": [],
   "source": [
    "show(implicit_plot3d(x+y+z==3,(x,-2,2),(y,-5,5),(z,0,10), color='green') )"
   ]
  },
  {
   "cell_type": "code",
   "execution_count": null,
   "metadata": {},
   "outputs": [],
   "source": [
    "GrafPlxz =  implicit_plot3d(planoxz,(x,-5,5),(y,-5,5),(z,-5,5),color='green',opacity=.125, axes=True, frame=False)"
   ]
  },
  {
   "cell_type": "code",
   "execution_count": null,
   "metadata": {},
   "outputs": [],
   "source": [
    "GrafPlyz = implicit_plot3d(planoyz,(x,-5,5),(y,-5,5),(z,-5,5),color='red',opacity=.125, axes=True, frame=False)"
   ]
  },
  {
   "cell_type": "code",
   "execution_count": null,
   "metadata": {},
   "outputs": [],
   "source": [
    "PlsCoords = GrafPlxy + GrafPlxz + GrafPlyz"
   ]
  },
  {
   "cell_type": "code",
   "execution_count": null,
   "metadata": {
    "scrolled": true
   },
   "outputs": [],
   "source": [
    "show( PlsCoords + Cen)"
   ]
  },
  {
   "cell_type": "markdown",
   "metadata": {},
   "source": [
    "Para estudiar las superficies cuádricas, en primer lugar intersecamos con los planos paralelos a los planos coordenados que pasan por el centro.\n",
    "\n",
    "Luego con planos paralelos a los planos coordenados, seccionando nuestra cuádrica para comprender su gráfica.\n"
   ]
  },
  {
   "cell_type": "markdown",
   "metadata": {},
   "source": [
    "El primer caso será el plano x=1. Queremos ver qué queda cuando hacemos la intersección de nuestra cuádrica con dicho plano:\n",
    "\\begin{align*}\n",
    "& \\left\\{ \\begin{array}{l} \\frac{(x-1)^2}{4}+\\frac{(y+2)^{2}}{5}+\\frac{(z-2)^{2}}{9}=1 \\\\ x=1 \\end{array} \\right. \\\\\n",
    "& \\left\\{ \\begin{array}{l} \\frac{(y+2)^{2}}{5}+\\frac{(z-2)^{2}}{9}=1 \\\\ x=1 \\end{array} \\right.\n",
    "\\end{align*}\n",
    "que es, evidentemente, la ecuación de una elipse en el plano $x=1$.\n",
    "\n",
    "\n"
   ]
  },
  {
   "cell_type": "code",
   "execution_count": null,
   "metadata": {},
   "outputs": [],
   "source": [
    "CuadINTPlx1 = implicit_plot3d( Cuad==0 , (x,.99,1), (y,-5,5), (z,-5,5), color='blue', axes=True, frame=False )"
   ]
  },
  {
   "cell_type": "code",
   "execution_count": null,
   "metadata": {},
   "outputs": [],
   "source": [
    "show( CuadINTPlx1 + PlsCoords + Cen)"
   ]
  },
  {
   "cell_type": "markdown",
   "metadata": {},
   "source": [
    "Si hacemos más cortes con planos paralelos al plano $x=1$, ¿qué obtenemos? Veamos:\n",
    "\\begin{align*}\n",
    "& \\left\\{ \\begin{array}{l} \\frac{(x-1)^2}{4}+\\frac{(y+2)^{2}}{5}+\\frac{(z-2)^{2}}{9}=1 \\\\ x=k \\end{array} \\right. \\\\\n",
    "& \\left\\{ \\begin{array}{l} \\frac{(y+2)^{2}}{5}+\\frac{(z-2)^{2}}{9}=1-\\frac{(k-1)^2}{4} \\\\ x=k \\end{array} \\right.\n",
    "\\end{align*}\n",
    "\n",
    "Observando la primera ecuación, vemos que estamos frente a una ecuación cuadrática en dos variables (y y z), es decir, será una cónica (degenerada o no) en el plano $x=k$.\n",
    "\n",
    "De acuerdo al estudio que hemos hecho en la unidad anterior sobre estas ecuaciones, es claro que:\n",
    "\n",
    "Si $k\\in\\mathbb{R}$ es tal que\n",
    "- $1-\\frac{(k-1)^2}{4}<0$, es decir si $k<-1$ o si $k>3$ el sistema no tiene solución, de modo que representa el conjunto vacío.\n",
    "- $1-\\frac{(k-1)^2}{4}=0$, es decir, si $k=-1$ o si $k=3$ el sistema tiene tiene por solución el punto de coordenadas $(k,-2,2)$.\n",
    "- $1-\\frac{(k-1)^2}{4}>0$, es decir si $-1<k<3$, el sistema representa una elipse en el plano $x=k$.\n"
   ]
  },
  {
   "cell_type": "markdown",
   "metadata": {},
   "source": [
    "Entonces para poder graficar, haremos las intersecciones con los planos \n",
    " $x= -0,5$, $x=0$, $x=1$, $x=2$, $x= 2,5$."
   ]
  },
  {
   "cell_type": "code",
   "execution_count": null,
   "metadata": {},
   "outputs": [],
   "source": [
    "CuadINTPlxm05 = implicit_plot3d( Cuad == 0 , (x,-.5,-.49), (y,-5,5), (z,-5,5), color='blue',  axes=True, frame=False )"
   ]
  },
  {
   "cell_type": "code",
   "execution_count": null,
   "metadata": {},
   "outputs": [],
   "source": [
    "CuadINTPlx0 = implicit_plot3d( Cuad == 0 , (x,-.01,0), (y,-5,5), (z,-5,5),  axes=True, frame=False )"
   ]
  },
  {
   "cell_type": "code",
   "execution_count": null,
   "metadata": {},
   "outputs": [],
   "source": [
    "CuadINTPlx25 = implicit_plot3d( Cuad == 0, (x,2.49,2.5), (y,-5,5), (z,-5,5),  axes=True, frame=False )"
   ]
  },
  {
   "cell_type": "code",
   "execution_count": null,
   "metadata": {},
   "outputs": [],
   "source": [
    "CuadINTPlx2 = implicit_plot3d( Cuad == 0 , (x,1.99,2), (y,-5,5), (z,-5,5),  axes=True, frame=False )"
   ]
  },
  {
   "cell_type": "code",
   "execution_count": null,
   "metadata": {},
   "outputs": [],
   "source": [
    "CuadINTPlsParalx1 = CuadINTPlx1 + CuadINTPlxm05 + CuadINTPlx0 + CuadINTPlx25 + CuadINTPlx2"
   ]
  },
  {
   "cell_type": "code",
   "execution_count": null,
   "metadata": {},
   "outputs": [],
   "source": [
    "show( CuadINTPlsParalx1 + PlsCoords + Cen)"
   ]
  },
  {
   "cell_type": "markdown",
   "metadata": {},
   "source": [
    "En forma análoga podemos estudiar lo que sucede con los planos de la forma $y=k$.\n",
    "¿Qué nos dice nuestro ojo entrenado?\n",
    "Que la situación es similar, habrá un rango acotado donde las ecuaciones nos den elipses, un par de valores donde obtengamos puntos y otro rango no acotado donde tengamos representado el conjunto vacío. \n",
    "\n",
    "Las cuentas quedan como ejercicio!!!!"
   ]
  },
  {
   "cell_type": "markdown",
   "metadata": {},
   "source": [
    "Ahora intersectamos lo anterior con el plano y=-2 y algunos planos paralelos a él:\n",
    "y=0 , y=-1, y=-2, y=-3, y=-4"
   ]
  },
  {
   "cell_type": "code",
   "execution_count": null,
   "metadata": {},
   "outputs": [],
   "source": [
    "CuadINTPly0 = implicit_plot3d( Cuad == 0 , (x,-5,5), (y,-0.01,0), (z,-5,5), color='red',  axes=True, frame=False )"
   ]
  },
  {
   "cell_type": "code",
   "execution_count": null,
   "metadata": {},
   "outputs": [],
   "source": [
    "CuadINTPlym1 = implicit_plot3d( Cuad == 0 , (x,-5,5), (y,-1.01,-1), (z,-5,5), color='red', axes=True, frame=False )"
   ]
  },
  {
   "cell_type": "code",
   "execution_count": null,
   "metadata": {},
   "outputs": [],
   "source": [
    "CuadINTPlym2 =  implicit_plot3d( Cuad == 0, (x,-5,5), (y,-2.01,-2), (z,-5,5), color='red', axes=True, frame=False )"
   ]
  },
  {
   "cell_type": "code",
   "execution_count": null,
   "metadata": {},
   "outputs": [],
   "source": [
    "CuadINTPlym3 =  implicit_plot3d( Cuad == 0, (x,-5,5), (y,-3.01,-3), (z,-5,5), color='red', axes=True, frame=False )"
   ]
  },
  {
   "cell_type": "code",
   "execution_count": null,
   "metadata": {},
   "outputs": [],
   "source": [
    "CuadINTPlym4 =  implicit_plot3d( Cuad == 0, (x,-5,5), (y,-4.01,-4), (z,-5,5), color='red', axes=True, frame=False )"
   ]
  },
  {
   "cell_type": "code",
   "execution_count": null,
   "metadata": {},
   "outputs": [],
   "source": [
    "CuadINTPlsParalym2 = CuadINTPly0 + CuadINTPlym1 + CuadINTPlym2 + CuadINTPlym3 + CuadINTPlym4"
   ]
  },
  {
   "cell_type": "code",
   "execution_count": null,
   "metadata": {},
   "outputs": [],
   "source": [
    "show( CuadINTPlsParalym2 + PlsCoords + Cen)"
   ]
  },
  {
   "cell_type": "markdown",
   "metadata": {},
   "source": [
    "En cuanto a las intersecciones con los planos $z=k$, vemos por la similitud de los signos que acompañan los términos cuadráticos, que seguramente ocurrirá lo mismo. Nuevamente queda como ejercicio realizar los cálculos.\n",
    "\n",
    "Grafiquemos algunas intersecciones:"
   ]
  },
  {
   "cell_type": "code",
   "execution_count": null,
   "metadata": {},
   "outputs": [],
   "source": [
    "CuadINTPlz2 = implicit_plot3d( Cuad == 0 , (x,-5,5), (y,-5,5), (z,1.99,2), color='green', axes=True, frame=False )"
   ]
  },
  {
   "cell_type": "code",
   "execution_count": null,
   "metadata": {},
   "outputs": [],
   "source": [
    "CuadINTPlz3 = implicit_plot3d( Cuad == 0, (x,-5,5), (y,-5,5), (z,2.99,3), color='green',  axes=True, frame=False )"
   ]
  },
  {
   "cell_type": "code",
   "execution_count": null,
   "metadata": {},
   "outputs": [],
   "source": [
    "CuadINTPlz4 = implicit_plot3d( Cuad == 0, (x,-5,5), (y,-5,5), (z,3.99,4), color='green',  axes=True, frame=False )"
   ]
  },
  {
   "cell_type": "code",
   "execution_count": null,
   "metadata": {},
   "outputs": [],
   "source": [
    "CuadINTPlz1 = implicit_plot3d( Cuad == 0, (x,-5,5), (y,-5,5), (z,0.99,1), color='green',  axes=True, frame=False )"
   ]
  },
  {
   "cell_type": "code",
   "execution_count": null,
   "metadata": {},
   "outputs": [],
   "source": [
    "CuadINTPlz0 = implicit_plot3d( Cuad == 0, (x,-5,5), (y,-5,5), (z,.01,0), color='green',  axes=True, frame=False )"
   ]
  },
  {
   "cell_type": "code",
   "execution_count": null,
   "metadata": {
    "scrolled": true
   },
   "outputs": [],
   "source": [
    " CuadINTPlsParalz2 = CuadINTPlz2 + CuadINTPlz3 + CuadINTPlz4 + CuadINTPlz1 + CuadINTPlz0"
   ]
  },
  {
   "cell_type": "code",
   "execution_count": null,
   "metadata": {},
   "outputs": [],
   "source": [
    "show( CuadINTPlsParalz2 + PlsCoords + Cen )"
   ]
  },
  {
   "cell_type": "markdown",
   "metadata": {},
   "source": [
    "Para darnos una idea, veamos todas las graficas juntas e interpretemos la superficie que se forma:"
   ]
  },
  {
   "cell_type": "code",
   "execution_count": null,
   "metadata": {},
   "outputs": [],
   "source": [
    "show( CuadINTPlsParalx1 + CuadINTPlsParalym2 + CuadINTPlsParalz2 + PlsCoords + Cen )"
   ]
  },
  {
   "cell_type": "markdown",
   "metadata": {},
   "source": [
    "Si le pedimos a SAGE que la dibuje, por supuesto que lo hace. Pero es más instructivo ver cómo se forma, no?"
   ]
  },
  {
   "cell_type": "code",
   "execution_count": null,
   "metadata": {},
   "outputs": [],
   "source": [
    "Elipsoide = implicit_plot3d( Cuad == 0, (x,-5,5), (y,-5,5), (z,-5,5), axes=False, frame=False, aspect_ratio = [1,1,1], color='seashell')"
   ]
  },
  {
   "cell_type": "code",
   "execution_count": null,
   "metadata": {},
   "outputs": [],
   "source": [
    "show(Elipsoide)\n"
   ]
  },
  {
   "cell_type": "code",
   "execution_count": null,
   "metadata": {},
   "outputs": [],
   "source": [
    "show( Elipsoide + PlsCoords + Cen)"
   ]
  },
  {
   "cell_type": "code",
   "execution_count": null,
   "metadata": {},
   "outputs": [],
   "source": []
  }
 ],
 "metadata": {
  "kernelspec": {
   "display_name": "SageMath 9.0",
   "language": "sage",
   "name": "sagemath"
  },
  "language_info": {
   "codemirror_mode": {
    "name": "ipython",
    "version": 3
   },
   "file_extension": ".py",
   "mimetype": "text/x-python",
   "name": "python",
   "nbconvert_exporter": "python",
   "pygments_lexer": "ipython3",
   "version": "3.7.3"
  }
 },
 "nbformat": 4,
 "nbformat_minor": 2
}
